{
 "cells": [
  {
   "cell_type": "markdown",
   "id": "30a238a4",
   "metadata": {},
   "source": [
    "# STRING ASSIGNMENT"
   ]
  },
  {
   "cell_type": "markdown",
   "id": "e3ebf02b",
   "metadata": {},
   "source": [
    "Q1) str1 = \"James\"\n",
    "output:Jms"
   ]
  },
  {
   "cell_type": "code",
   "execution_count": 3,
   "id": "d472f84e",
   "metadata": {},
   "outputs": [
    {
     "data": {
      "text/plain": [
       "'Jms'"
      ]
     },
     "execution_count": 3,
     "metadata": {},
     "output_type": "execute_result"
    }
   ],
   "source": [
    "s=\"James\"\n",
    "s[0:5:2]\n"
   ]
  },
  {
   "cell_type": "markdown",
   "id": "4723c55a",
   "metadata": {},
   "source": [
    "Q2) str1 = \"JhonDipPeta\" , out:Dip: \n",
    "str2 = \"JaSonAy\" , out:Son"
   ]
  },
  {
   "cell_type": "code",
   "execution_count": 4,
   "id": "584bcef7",
   "metadata": {},
   "outputs": [
    {
     "data": {
      "text/plain": [
       "'Dip'"
      ]
     },
     "execution_count": 4,
     "metadata": {},
     "output_type": "execute_result"
    }
   ],
   "source": [
    "s = \"JhonDipPeta\"\n",
    "s[4]+s[5]+s[6]"
   ]
  },
  {
   "cell_type": "code",
   "execution_count": 5,
   "id": "3c1131d0",
   "metadata": {},
   "outputs": [
    {
     "data": {
      "text/plain": [
       "'Son'"
      ]
     },
     "execution_count": 5,
     "metadata": {},
     "output_type": "execute_result"
    }
   ],
   "source": [
    "s = \"JaSonAy\"\n",
    "s[2:5]"
   ]
  },
  {
   "cell_type": "markdown",
   "id": "afdd3ea6",
   "metadata": {},
   "source": [
    "Q3) Append new string in the middle of a given string?"
   ]
  },
  {
   "cell_type": "code",
   "execution_count": 11,
   "id": "62955975",
   "metadata": {},
   "outputs": [],
   "source": [
    "s=\"1,2,3,4,6,7,8\""
   ]
  },
  {
   "cell_type": "code",
   "execution_count": 13,
   "id": "fefb1c3a",
   "metadata": {},
   "outputs": [
    {
     "data": {
      "text/plain": [
       "',3,4,6,7,8,1,2'"
      ]
     },
     "execution_count": 13,
     "metadata": {},
     "output_type": "execute_result"
    }
   ],
   "source": [
    "s[3:]+s[5]+s[:3]"
   ]
  },
  {
   "cell_type": "markdown",
   "id": "af5181cc",
   "metadata": {},
   "source": [
    "Q4) Create a new string made of the first, middle, and last characters of each input string\n",
    "given: \n",
    "s1 = \"America\"\n",
    "s2 = \"Japan\"\n",
    "out:AJrpan"
   ]
  },
  {
   "cell_type": "code",
   "execution_count": 14,
   "id": "95ec03a7",
   "metadata": {},
   "outputs": [
    {
     "data": {
      "text/plain": [
       "'AJrpan'"
      ]
     },
     "execution_count": 14,
     "metadata": {},
     "output_type": "execute_result"
    }
   ],
   "source": [
    "s1= \"America\"\n",
    "s2= \"Japan\"\n",
    "\n",
    "s1[0]+s2[0]+s1[3]+s2[2:]"
   ]
  },
  {
   "cell_type": "markdown",
   "id": "120cc345",
   "metadata": {},
   "source": [
    "Q5)Arrange string characters such that lowercase letters should come first\n",
    "given:str1 = PyNaTive\n",
    "output : yaivePNT"
   ]
  },
  {
   "cell_type": "code",
   "execution_count": 14,
   "id": "75d1312d",
   "metadata": {},
   "outputs": [
    {
     "name": "stdout",
     "output_type": "stream",
     "text": [
      "['y', 'a', 'i', 'v', 'e']\n",
      "['P', 'N', 'T']\n",
      "['y', 'a', 'i', 'v', 'e', 'P', 'N', 'T']\n"
     ]
    }
   ],
   "source": [
    "s = \"PyNaTive\"\n",
    "a=\"abcdefghijklmnopqrstuvwxyz\"\n",
    "b=\"ABCDEFGHIJKLMNOPQRSTUVWXYZ\"\n",
    "j=[]\n",
    "c=[]\n",
    "for i in s:\n",
    "    if i in a:\n",
    "        j.append(i)\n",
    "    elif i in s :\n",
    "        c.append(i)\n",
    "\n",
    "print(j)\n",
    "print(c)\n",
    "output=j+c       \n",
    "print(output)    "
   ]
  },
  {
   "cell_type": "code",
   "execution_count": 20,
   "id": "ce2a5976",
   "metadata": {},
   "outputs": [
    {
     "name": "stdout",
     "output_type": "stream",
     "text": [
      "Original String: PyNaTive \n",
      "Result: yaivePNT \n"
     ]
    }
   ],
   "source": [
    "str1 = \"PyNaTive \"\n",
    "print('Original String:', str1)\n",
    "lower = []\n",
    "upper = []\n",
    "for char in str1:\n",
    "    if char.islower():\n",
    "        lower.append(char)\n",
    "    else:\n",
    "        upper.append(char)\n",
    "\n",
    "\n",
    "sorted_str = ''.join(lower + upper)\n",
    "print('Result:', sorted_str)"
   ]
  },
  {
   "cell_type": "markdown",
   "id": "8fe751dc",
   "metadata": {},
   "source": [
    "Exercise 6: Create a mixed String using the following rules\n",
    "\n",
    "  \"Given two strings, s1 and s2. Write a program to create \n",
    "   a new string s3 made of the first char of s1, then the last char of s2,\n",
    "   Next, the second char of s1 and second last char of s2, \n",
    "   and so on. Any leftover chars go at the end of the result.\"\n",
    "\n",
    "given: \n",
    "s1 = \"Abc\"\n",
    "s2 = \"Xyz\"\n",
    "output: AzbycX"
   ]
  },
  {
   "cell_type": "code",
   "execution_count": 1,
   "id": "1409d22b",
   "metadata": {},
   "outputs": [
    {
     "data": {
      "text/plain": [
       "'AzbycX'"
      ]
     },
     "execution_count": 1,
     "metadata": {},
     "output_type": "execute_result"
    }
   ],
   "source": [
    "s1=\"Abc\"\n",
    "s2=\"Xyz\"\n",
    "s1[0]+s2[-1]+s1[1]+s2[-2]+s1[2]+s2[-3]"
   ]
  }
 ],
 "metadata": {
  "kernelspec": {
   "display_name": "Python 3 (ipykernel)",
   "language": "python",
   "name": "python3"
  },
  "language_info": {
   "codemirror_mode": {
    "name": "ipython",
    "version": 3
   },
   "file_extension": ".py",
   "mimetype": "text/x-python",
   "name": "python",
   "nbconvert_exporter": "python",
   "pygments_lexer": "ipython3",
   "version": "3.10.2"
  }
 },
 "nbformat": 4,
 "nbformat_minor": 5
}
